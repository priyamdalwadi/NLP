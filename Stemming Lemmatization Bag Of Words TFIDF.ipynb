{
 "cells": [
  {
   "cell_type": "code",
   "execution_count": 1,
   "metadata": {},
   "outputs": [],
   "source": [
    "import nltk\n",
    "from nltk.corpus import stopwords"
   ]
  },
  {
   "cell_type": "code",
   "execution_count": 2,
   "metadata": {},
   "outputs": [],
   "source": [
    "corpus = '''Number one: Put God first. Put God first in everything you do. \n",
    "Everything that you think you see in me. Everything that I’ve accomplished, everything that you think I have– and I have a few things.Everything that I have is by the grace of God. Understand that.\n",
    "It’s a gift. Forty years ago, March 27th, 1975 – it was forty years ago just this past March, I was flunking out of college I had a 1.7 grade point average, \n",
    "I hope none of you can relate.I had a 1.7 grade point average, I was sitting in my mother’s beauty shop.\n",
    "They still call the beauty shop now, what they call it? Yeah, and I was sitting in a beauty parlor. \n",
    "I was sitting in my mother’s beauty parlor.\n",
    "And I’m looking in the mirror and I see behind me this woman under the dryer and every time she looked up – she every time I looked up she was looking at me. She was looking me in the eye, I don’t know who she was and I said you know, she said somebody give me a pen, give me a pencil I have a prophecy.\n",
    "March 27th, 1975, she said boy you are going to travel the world and speak to millions of people. Now mind you I flunked out of college I’m thinking about joining the army I didn’t know what I was going to go and she is telling me I’m going to travel the world and speak to millions of people.\n",
    "Well I have, traveled the world. And I have spoke to millions of people, but that’s not the most important thing, success that I had the most important thing is that what she taught me, what she told me that day has stayed with me since.\n",
    "I’ve been protected, I’ve been directed, I’ve been corrected, I’ve kept god in my life and it’s kept me humble, I didn’t always stick with him but he always stuck with me.\n",
    "So stick with him, in everything you do, if you think you want to do, what you think I’ve done, then do what I’ve done. And stick with god.\n",
    "'''"
   ]
  },
  {
   "cell_type": "markdown",
   "metadata": {},
   "source": [
    "# Word tokenizing and Sentence tokenizing"
   ]
  },
  {
   "cell_type": "code",
   "execution_count": 3,
   "metadata": {},
   "outputs": [],
   "source": [
    "word_token = nltk.word_tokenize(corpus)"
   ]
  },
  {
   "cell_type": "code",
   "execution_count": 4,
   "metadata": {},
   "outputs": [
    {
     "data": {
      "text/plain": [
       "['Number', 'one', ':', 'Put', 'God', 'first', '.', 'Put', 'God', 'first']"
      ]
     },
     "execution_count": 4,
     "metadata": {},
     "output_type": "execute_result"
    }
   ],
   "source": [
    "word_token[:10]"
   ]
  },
  {
   "cell_type": "code",
   "execution_count": 5,
   "metadata": {},
   "outputs": [
    {
     "data": {
      "text/plain": [
       "442"
      ]
     },
     "execution_count": 5,
     "metadata": {},
     "output_type": "execute_result"
    }
   ],
   "source": [
    "len(word_token)"
   ]
  },
  {
   "cell_type": "code",
   "execution_count": 6,
   "metadata": {},
   "outputs": [],
   "source": [
    "sent_token = nltk.sent_tokenize(corpus)"
   ]
  },
  {
   "cell_type": "code",
   "execution_count": 7,
   "metadata": {},
   "outputs": [
    {
     "data": {
      "text/plain": [
       "['Number one: Put God first.',\n",
       " 'Put God first in everything you do.',\n",
       " 'Everything that you think you see in me.',\n",
       " 'Everything that I’ve accomplished, everything that you think I have– and I have a few things.Everything that I have is by the grace of God.',\n",
       " 'Understand that.']"
      ]
     },
     "execution_count": 7,
     "metadata": {},
     "output_type": "execute_result"
    }
   ],
   "source": [
    "sent_token[:5]"
   ]
  },
  {
   "cell_type": "code",
   "execution_count": 8,
   "metadata": {},
   "outputs": [
    {
     "data": {
      "text/plain": [
       "19"
      ]
     },
     "execution_count": 8,
     "metadata": {},
     "output_type": "execute_result"
    }
   ],
   "source": [
    "len(sent_token)"
   ]
  },
  {
   "cell_type": "markdown",
   "metadata": {},
   "source": [
    "# Stemming "
   ]
  },
  {
   "cell_type": "code",
   "execution_count": 9,
   "metadata": {},
   "outputs": [],
   "source": [
    "from nltk.stem.porter import PorterStemmer\n",
    "from nltk.corpus import stopwords"
   ]
  },
  {
   "cell_type": "code",
   "execution_count": 10,
   "metadata": {},
   "outputs": [],
   "source": [
    "paragraph = '''Number one: Put God first. Put God first in everything you do. \n",
    "Everything that you think you see in me. Everything that I’ve accomplished, everything that you think I have– and I have a few things.Everything that I have is by the grace of God. Understand that.\n",
    "It’s a gift. Forty years ago, March 27th, 1975 – it was forty years ago just this past March, I was flunking out of college I had a 1.7 grade point average, \n",
    "I hope none of you can relate.I had a 1.7 grade point average, I was sitting in my mother’s beauty shop.\n",
    "They still call the beauty shop now, what they call it? Yeah, and I was sitting in a beauty parlor. \n",
    "I was sitting in my mother’s beauty parlor.\n",
    "And I’m looking in the mirror and I see behind me this woman under the dryer and every time she looked up – she every time I looked up she was looking at me. She was looking me in the eye, I don’t know who she was and I said you know, she said somebody give me a pen, give me a pencil I have a prophecy.\n",
    "March 27th, 1975, she said boy you are going to travel the world and speak to millions of people. Now mind you I flunked out of college I’m thinking about joining the army I didn’t know what I was going to go and she is telling me I’m going to travel the world and speak to millions of people.\n",
    "Well I have, traveled the world. And I have spoke to millions of people, but that’s not the most important thing, success that I had the most important thing is that what she taught me, what she told me that day has stayed with me since.\n",
    "I’ve been protected, I’ve been directed, I’ve been corrected, I’ve kept god in my life and it’s kept me humble, I didn’t always stick with him but he always stuck with me.\n",
    "So stick with him, in everything you do, if you think you want to do, what you think I’ve done, then do what I’ve done. And stick with god.\n",
    "'''"
   ]
  },
  {
   "cell_type": "code",
   "execution_count": 11,
   "metadata": {},
   "outputs": [],
   "source": [
    "sentence = nltk.sent_tokenize(paragraph)"
   ]
  },
  {
   "cell_type": "code",
   "execution_count": 12,
   "metadata": {},
   "outputs": [],
   "source": [
    "ps = PorterStemmer()"
   ]
  },
  {
   "cell_type": "code",
   "execution_count": 13,
   "metadata": {},
   "outputs": [],
   "source": [
    "for i in range(len(sentence)):\n",
    "    words = nltk.word_tokenize(sentence[i])\n",
    "    words = [ps.stem(word) for word in words if word not in set(stopwords.words('english'))]\n",
    "    sentence[i] = \" \".join(words)"
   ]
  },
  {
   "cell_type": "code",
   "execution_count": 14,
   "metadata": {},
   "outputs": [
    {
     "data": {
      "text/plain": [
       "['number one : put god first .',\n",
       " 'put god first everyth .',\n",
       " 'everyth think see .',\n",
       " 'everyth I ’ accomplish , everyth think I have– I things.everyth I grace god .',\n",
       " 'understand .']"
      ]
     },
     "execution_count": 14,
     "metadata": {},
     "output_type": "execute_result"
    }
   ],
   "source": [
    "sentence[0:5]"
   ]
  },
  {
   "cell_type": "code",
   "execution_count": 15,
   "metadata": {},
   "outputs": [
    {
     "data": {
      "text/plain": [
       "['Number one: Put God first.',\n",
       " 'Put God first in everything you do.',\n",
       " 'Everything that you think you see in me.',\n",
       " 'Everything that I’ve accomplished, everything that you think I have– and I have a few things.Everything that I have is by the grace of God.',\n",
       " 'Understand that.']"
      ]
     },
     "execution_count": 15,
     "metadata": {},
     "output_type": "execute_result"
    }
   ],
   "source": [
    "sent_token[0:5]"
   ]
  },
  {
   "cell_type": "markdown",
   "metadata": {},
   "source": [
    "# Lemmatization"
   ]
  },
  {
   "cell_type": "code",
   "execution_count": 16,
   "metadata": {},
   "outputs": [],
   "source": [
    "paragraph_lemma = '''Number one: Put God first. Put God first in everything you do. \n",
    "Everything that you think you see in me. Everything that I’ve accomplished, everything that you think I have– and I have a few things.Everything that I have is by the grace of God. Understand that.\n",
    "It’s a gift. Forty years ago, March 27th, 1975 – it was forty years ago just this past March, I was flunking out of college I had a 1.7 grade point average, \n",
    "I hope none of you can relate.I had a 1.7 grade point average, I was sitting in my mother’s beauty shop.\n",
    "They still call the beauty shop now, what they call it? Yeah, and I was sitting in a beauty parlor. \n",
    "I was sitting in my mother’s beauty parlor.\n",
    "And I’m looking in the mirror and I see behind me this woman under the dryer and every time she looked up – she every time I looked up she was looking at me. She was looking me in the eye, I don’t know who she was and I said you know, she said somebody give me a pen, give me a pencil I have a prophecy.\n",
    "March 27th, 1975, she said boy you are going to travel the world and speak to millions of people. Now mind you I flunked out of college I’m thinking about joining the army I didn’t know what I was going to go and she is telling me I’m going to travel the world and speak to millions of people.\n",
    "Well I have, traveled the world. And I have spoke to millions of people, but that’s not the most important thing, success that I had the most important thing is that what she taught me, what she told me that day has stayed with me since.\n",
    "I’ve been protected, I’ve been directed, I’ve been corrected, I’ve kept god in my life and it’s kept me humble, I didn’t always stick with him but he always stuck with me.\n",
    "So stick with him, in everything you do, if you think you want to do, what you think I’ve done, then do what I’ve done. And stick with god.\n",
    "'''"
   ]
  },
  {
   "cell_type": "code",
   "execution_count": 17,
   "metadata": {},
   "outputs": [],
   "source": [
    "sentence_lemma = nltk.sent_tokenize(paragraph_lemma)"
   ]
  },
  {
   "cell_type": "code",
   "execution_count": 18,
   "metadata": {},
   "outputs": [],
   "source": [
    "from nltk.stem import WordNetLemmatizer"
   ]
  },
  {
   "cell_type": "code",
   "execution_count": 19,
   "metadata": {},
   "outputs": [],
   "source": [
    "wL = WordNetLemmatizer()"
   ]
  },
  {
   "cell_type": "code",
   "execution_count": 20,
   "metadata": {},
   "outputs": [
    {
     "data": {
      "text/plain": [
       "['Number one : Put God first .',\n",
       " 'Put God first everything .',\n",
       " 'Everything think see .',\n",
       " 'Everything I ’ accomplished , everything think I have– I things.Everything I grace God .',\n",
       " 'Understand .']"
      ]
     },
     "execution_count": 20,
     "metadata": {},
     "output_type": "execute_result"
    }
   ],
   "source": [
    "for i in range(len(sentence_lemma)):\n",
    "    words_lemma = nltk.word_tokenize(sentence_lemma[i])\n",
    "    words_lemma = [wL.lemmatize(word_lemma) for word_lemma in words_lemma if word_lemma not in set(stopwords.words('english'))]\n",
    "    sentence_lemma[i] = \" \".join(words_lemma)\n",
    "\n",
    "sentence_lemma[:5]"
   ]
  },
  {
   "cell_type": "markdown",
   "metadata": {},
   "source": [
    "# Bag Of Words"
   ]
  },
  {
   "cell_type": "code",
   "execution_count": 21,
   "metadata": {},
   "outputs": [],
   "source": [
    "speech = '''Yeah, you know it’s…. it’s funny like for me the mentality is a really simple one in a sense that the\n",
    "confidence comes from preparation. You know, so when the game’s on a line, I’m not asking myself to do\n",
    "something that I haven’t done thousands of times before right, so when I prepare, I know what I’m capable\n",
    "of doing. I know what I’m comfortable doing, and I know what. I’m not comfortable doing alright, and so in\n",
    "those moments, if it looks like I’m ice cold or not nervous, it’s because I’ve done it thousands of times\n",
    "before, so it’s one more time.Well, I mean overall, you know the idea is a very simple one, and you know, the Mamba mentality\n",
    "simply means trying to be the best version of yourself. That’s what the mentality means. It means every day\n",
    "you know you’re trying to become better, and it’s a constant quest. It’s an infinite quest, so starting at the\n",
    "age of two when I first started playing the game and on and on and on, I always ask questions. I always try to\n",
    "get better every single day, learn more, learn more.I was asking questions all the time. You’d be surprised, like some people like my kids at two\n",
    "could do a lot of things. Right. At two, I could dribble the basketball. I could shoot a basketball on the nerf\n",
    "hoop at the house and I would go to practice with my father. I would observe my father. I’d sit and watch \n",
    "'''"
   ]
  },
  {
   "cell_type": "code",
   "execution_count": 22,
   "metadata": {},
   "outputs": [],
   "source": [
    "import re"
   ]
  },
  {
   "cell_type": "code",
   "execution_count": 23,
   "metadata": {},
   "outputs": [],
   "source": [
    "list_of_words = [ ]"
   ]
  },
  {
   "cell_type": "code",
   "execution_count": 24,
   "metadata": {},
   "outputs": [],
   "source": [
    "sent_speech = nltk.sent_tokenize(speech)"
   ]
  },
  {
   "cell_type": "code",
   "execution_count": 25,
   "metadata": {},
   "outputs": [],
   "source": [
    "for i in range (len(sent_speech)):\n",
    "    review = re.sub('[^a-zA-Z]', \" \", sent_speech[i])\n",
    "    review = review.lower()\n",
    "    review = review.split()\n",
    "    review = [ps.stem(speech_word) for speech_word in review if speech_word not in set(stopwords.words('english'))]\n",
    "    review = ' '.join(review)\n",
    "    list_of_words.append(review)"
   ]
  },
  {
   "cell_type": "code",
   "execution_count": 26,
   "metadata": {},
   "outputs": [
    {
     "data": {
      "text/plain": [
       "['yeah know',\n",
       " 'funni like mental realli simpl one sens confid come prepar',\n",
       " 'know game line ask someth done thousand time right prepar know capabl',\n",
       " 'know comfort know',\n",
       " 'comfort alright moment look like ice cold nervou done thousand time one time well mean overal know idea simpl one know mamba mental simpli mean tri best version',\n",
       " 'mental mean',\n",
       " 'mean everi day know tri becom better constant quest',\n",
       " 'infinit quest start age two first start play game alway ask question',\n",
       " 'alway tri get better everi singl day learn learn ask question time',\n",
       " 'surpris like peopl like kid two could lot thing',\n",
       " 'right',\n",
       " 'two could dribbl basketbal',\n",
       " 'could shoot basketbal nerf hoop hous would go practic father',\n",
       " 'would observ father',\n",
       " 'sit watch']"
      ]
     },
     "execution_count": 26,
     "metadata": {},
     "output_type": "execute_result"
    }
   ],
   "source": [
    "list_of_words"
   ]
  },
  {
   "cell_type": "code",
   "execution_count": 27,
   "metadata": {},
   "outputs": [],
   "source": [
    "# Creating the Bag of Words model\n",
    "from sklearn.feature_extraction.text import CountVectorizer\n",
    "cv = CountVectorizer(max_features=2500)\n",
    "X = cv.fit_transform(list_of_words).toarray()"
   ]
  },
  {
   "cell_type": "code",
   "execution_count": 28,
   "metadata": {},
   "outputs": [
    {
     "data": {
      "text/plain": [
       "(15, 73)"
      ]
     },
     "execution_count": 28,
     "metadata": {},
     "output_type": "execute_result"
    }
   ],
   "source": [
    "X.shape"
   ]
  },
  {
   "cell_type": "markdown",
   "metadata": {},
   "source": [
    "# TF-IDF"
   ]
  },
  {
   "cell_type": "code",
   "execution_count": 29,
   "metadata": {},
   "outputs": [],
   "source": [
    "speech_TFIDF = '''Yeah, you know it’s…. it’s funny like for me the mentality is a really simple one in a sense that the\n",
    "confidence comes from preparation. You know, so when the game’s on a line, I’m not asking myself to do\n",
    "something that I haven’t done thousands of times before right, so when I prepare, I know what I’m capable\n",
    "of doing. I know what I’m comfortable doing, and I know what. I’m not comfortable doing alright, and so in\n",
    "those moments, if it looks like I’m ice cold or not nervous, it’s because I’ve done it thousands of times\n",
    "before, so it’s one more time.Well, I mean overall, you know the idea is a very simple one, and you know, the Mamba mentality\n",
    "simply means trying to be the best version of yourself. That’s what the mentality means. It means every day\n",
    "you know you’re trying to become better, and it’s a constant quest. It’s an infinite quest, so starting at the\n",
    "age of two when I first started playing the game and on and on and on, I always ask questions. I always try to\n",
    "get better every single day, learn more, learn more.I was asking questions all the time. You’d be surprised, like some people like my kids at two\n",
    "could do a lot of things. Right. At two, I could dribble the basketball. I could shoot a basketball on the nerf\n",
    "hoop at the house and I would go to practice with my father. I would observe my father. I’d sit and watch \n",
    "'''"
   ]
  },
  {
   "cell_type": "code",
   "execution_count": 30,
   "metadata": {},
   "outputs": [],
   "source": [
    "list_tfidf = [ ]"
   ]
  },
  {
   "cell_type": "code",
   "execution_count": 31,
   "metadata": {},
   "outputs": [],
   "source": [
    "tfidf_sent = nltk.sent_tokenize(speech_TFIDF)"
   ]
  },
  {
   "cell_type": "code",
   "execution_count": 32,
   "metadata": {},
   "outputs": [],
   "source": [
    "for i in range (len(tfidf_sent)):\n",
    "    review = re.sub('[^a-zA-Z]', \" \", tfidf_sent[i])\n",
    "    review = review.lower()\n",
    "    review = review.split()\n",
    "    review = [wL.lemmatize(speech_word) for speech_word in review if speech_word not in set(stopwords.words('english'))]\n",
    "    review = ' '.join(review)\n",
    "    list_tfidf.append(review)"
   ]
  },
  {
   "cell_type": "code",
   "execution_count": 33,
   "metadata": {},
   "outputs": [],
   "source": [
    "from sklearn.feature_extraction.text import TfidfVectorizer\n",
    "tfidf = TfidfVectorizer(max_features=2500)\n",
    "X = tfidf.fit_transform(list_tfidf).toarray()"
   ]
  },
  {
   "cell_type": "code",
   "execution_count": 34,
   "metadata": {},
   "outputs": [
    {
     "data": {
      "text/plain": [
       "(15, 77)"
      ]
     },
     "execution_count": 34,
     "metadata": {},
     "output_type": "execute_result"
    }
   ],
   "source": [
    "X.shape"
   ]
  },
  {
   "cell_type": "code",
   "execution_count": 35,
   "metadata": {},
   "outputs": [
    {
     "data": {
      "text/plain": [
       "array([[0.        , 0.        , 0.        , ..., 0.        , 0.        ,\n",
       "        0.84103082],\n",
       "       [0.        , 0.        , 0.        , ..., 0.        , 0.        ,\n",
       "        0.        ],\n",
       "       [0.        , 0.        , 0.        , ..., 0.        , 0.        ,\n",
       "        0.        ],\n",
       "       ...,\n",
       "       [0.        , 0.        , 0.        , ..., 0.        , 0.29168077,\n",
       "        0.        ],\n",
       "       [0.        , 0.        , 0.        , ..., 0.        , 0.54830459,\n",
       "        0.        ],\n",
       "       [0.        , 0.        , 0.        , ..., 0.        , 0.        ,\n",
       "        0.        ]])"
      ]
     },
     "execution_count": 35,
     "metadata": {},
     "output_type": "execute_result"
    }
   ],
   "source": [
    "X"
   ]
  },
  {
   "cell_type": "code",
   "execution_count": null,
   "metadata": {},
   "outputs": [],
   "source": []
  }
 ],
 "metadata": {
  "kernelspec": {
   "display_name": "Python 3",
   "language": "python",
   "name": "python3"
  },
  "language_info": {
   "codemirror_mode": {
    "name": "ipython",
    "version": 3
   },
   "file_extension": ".py",
   "mimetype": "text/x-python",
   "name": "python",
   "nbconvert_exporter": "python",
   "pygments_lexer": "ipython3",
   "version": "3.6.10"
  }
 },
 "nbformat": 4,
 "nbformat_minor": 4
}
